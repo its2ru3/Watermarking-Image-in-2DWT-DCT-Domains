{
 "cells": [
  {
   "cell_type": "code",
   "execution_count": 2,
   "id": "4c7567a3",
   "metadata": {},
   "outputs": [],
   "source": [
    "import numpy as np\n",
    "import matplotlib.pyplot as plt\n",
    "from PIL import Image"
   ]
  },
  {
   "cell_type": "markdown",
   "id": "1b235358",
   "metadata": {},
   "source": [
    "# function to take image and convert it to numpy array"
   ]
  },
  {
   "cell_type": "code",
   "execution_count": 3,
   "id": "af56d0c2",
   "metadata": {},
   "outputs": [],
   "source": [
    "def npimage(s):\n",
    "    image_ = Image.open(s)\n",
    "    image_c = image_.convert('L')\n",
    "    image = np.array(image_c)\n",
    "    image = image.astype(np.float64)\n",
    "    return image"
   ]
  },
  {
   "cell_type": "markdown",
   "id": "e624e6de",
   "metadata": {},
   "source": [
    "# scale function to constrict pixel values to 0 to 255"
   ]
  },
  {
   "cell_type": "code",
   "execution_count": 4,
   "id": "38e0d674",
   "metadata": {},
   "outputs": [],
   "source": [
    "def scale(image):\n",
    "    current_max = np.max(image)\n",
    "    current_min = np.min(image)\n",
    "    scaled_image = ((image-current_min) / (current_max-current_min)) * 255\n",
    "    return scaled_image"
   ]
  },
  {
   "cell_type": "markdown",
   "id": "f7c72fb3",
   "metadata": {},
   "source": [
    "# convolution of image with haar scaling function and haar wavelet in vertical direction"
   ]
  },
  {
   "cell_type": "code",
   "execution_count": 5,
   "id": "d7084ce1",
   "metadata": {},
   "outputs": [],
   "source": [
    "def con_v(image, highpass=False):\n",
    "    if highpass:\n",
    "        return (image[:, 0::2] - image[:, 1::2]) / np.sqrt(2)\n",
    "    else:\n",
    "        return (image[:, 0::2] + image[:, 1::2]) / np.sqrt(2)"
   ]
  },
  {
   "cell_type": "markdown",
   "id": "2a1891e0",
   "metadata": {},
   "source": [
    "# convolution of image with haar scaling function and haar wavelet in horizontal direction"
   ]
  },
  {
   "cell_type": "code",
   "execution_count": 6,
   "id": "5dbc5048",
   "metadata": {},
   "outputs": [],
   "source": [
    "def con_h(image, highpass=False):\n",
    "    if highpass:\n",
    "        return (image[0::2] - image[1::2]) / np.sqrt(2)\n",
    "    else:\n",
    "        return (image[0::2] + image[1::2]) / np.sqrt(2)"
   ]
  },
  {
   "cell_type": "markdown",
   "id": "0078fc82",
   "metadata": {},
   "source": [
    "# dwt of image at Level \"level\" using function con_v and con_h"
   ]
  },
  {
   "cell_type": "code",
   "execution_count": 18,
   "id": "c49500dd",
   "metadata": {},
   "outputs": [],
   "source": [
    "def dwt(image, level):\n",
    "    n,m=image.shape\n",
    "    r=np.zeros((n, m),dtype=np.float64)\n",
    "    \n",
    "    lf = con_v(con_h(image),True)\n",
    "    fl = con_v(con_h(image,True))\n",
    "    ff = con_v(con_h(image,True),True)\n",
    "    \n",
    "    if level == 1:\n",
    "        ll = con_v(con_h(image))\n",
    "    else:\n",
    "        ll = dwt(con_v(con_h(image)), level -1)\n",
    "    \n",
    "    \n",
    "    r[0:n//2, 0:m//2] = ll\n",
    "    r[n//2:n, 0:m//2] = lf\n",
    "    r[0:n//2, m//2:m] = fl\n",
    "    r[n//2:n, m//2:m] = ff\n",
    "\n",
    "    return r"
   ]
  },
  {
   "cell_type": "markdown",
   "id": "835b5620",
   "metadata": {},
   "source": [
    "# idwt of dwt of image"
   ]
  },
  {
   "cell_type": "code",
   "execution_count": 25,
   "id": "0377ae31",
   "metadata": {},
   "outputs": [],
   "source": [
    "def idwt(image, level):\n",
    "    n, m = image.shape\n",
    "    \n",
    "    r1 = np.zeros((n//2,m),dtype=np.float64)\n",
    "    r2 = np.zeros((n//2,m),dtype=np.float64)\n",
    "    r = np.zeros((n,m),dtype=np.float64)\n",
    "    \n",
    "    lf = image[0:n//2, m//2:m]\n",
    "    fl = image[n//2:n, 0:m//2]\n",
    "    ff = image[n//2:n, m//2:m]\n",
    "    \n",
    "    if level == 1:\n",
    "        ll = image[0:n//2, 0:m//2]\n",
    "    else:\n",
    "        ll = idwt(image[0:n//2, 0:m//2],level - 1)\n",
    "        \n",
    "    r1[:, 0::2] = (ll + fl) / np.sqrt(2)\n",
    "    r1[:, 1::2] = (ll - fl) / np.sqrt(2)\n",
    "    r2[:, 0::2] = (lf + ff) / np.sqrt(2)\n",
    "    r2[:, 1::2] = (lf - ff) / np.sqrt(2)\n",
    "\n",
    "        \n",
    "    r[0::2, :] = (r1 + r2) / np.sqrt(2)\n",
    "    r[1::2, :] = (r1 - r2) / np.sqrt(2)\n",
    "\n",
    "    return r\n"
   ]
  },
  {
   "cell_type": "markdown",
   "id": "b080544d",
   "metadata": {},
   "source": [
    "# testing of above code"
   ]
  },
  {
   "cell_type": "code",
   "execution_count": 47,
   "id": "baec0c9e",
   "metadata": {},
   "outputs": [],
   "source": [
    "image=npimage(\"C:\\\\Users\\\\garvi\\\\images\\\\vishal.jpg\")"
   ]
  },
  {
   "cell_type": "code",
   "execution_count": 48,
   "id": "fc0d2f36",
   "metadata": {},
   "outputs": [],
   "source": [
    "level = 2\n",
    "dwt_i=dwt(image,level)\n",
    "idwt_i=idwt(dwt_i,level)"
   ]
  },
  {
   "cell_type": "code",
   "execution_count": 49,
   "id": "657ea06a",
   "metadata": {},
   "outputs": [],
   "source": [
    "mse = np.mean((scale(idwt_i) - image) ** 2)"
   ]
  },
  {
   "cell_type": "code",
   "execution_count": 50,
   "id": "43454158",
   "metadata": {},
   "outputs": [
    {
     "name": "stdout",
     "output_type": "stream",
     "text": [
      "15.744236284095456\n"
     ]
    }
   ],
   "source": [
    "print(mse)"
   ]
  },
  {
   "cell_type": "code",
   "execution_count": 51,
   "id": "95d98031",
   "metadata": {},
   "outputs": [
    {
     "data": {
      "image/png": "[encoded data removed]",
      "text/plain": [
       "<Figure size 640x480 with 3 Axes>"
      ]
     },
     "metadata": {},
     "output_type": "display_data"
    }
   ],
   "source": [
    "plt.subplot(1,3,1)\n",
    "plt.title('orig')\n",
    "plt.imshow(image, cmap='gray')\n",
    "plt.axis('off')\n",
    "plt.subplot(1,3,2)\n",
    "plt.title(f'dwt of level {level}')\n",
    "plt.imshow(dwt_i, cmap='gray')\n",
    "plt.axis('off')\n",
    "plt.subplot(1,3,3)\n",
    "plt.title('idwt')\n",
    "plt.imshow(idwt_i, cmap='gray')\n",
    "plt.axis('off')\n",
    "plt.show()"
   ]
  },
  {
   "cell_type": "code",
   "execution_count": null,
   "id": "5685f78a",
   "metadata": {},
   "outputs": [],
   "source": []
  },
  {
   "cell_type": "code",
   "execution_count": null,
   "id": "8c7e8b65",
   "metadata": {},
   "outputs": [],
   "source": []
  },
  {
   "cell_type": "code",
   "execution_count": null,
   "id": "6f6a8708",
   "metadata": {},
   "outputs": [],
   "source": []
  },
  {
   "cell_type": "code",
   "execution_count": null,
   "id": "c79d5fc4",
   "metadata": {},
   "outputs": [],
   "source": []
  },
  {
   "cell_type": "code",
   "execution_count": null,
   "id": "bc3db5e3",
   "metadata": {},
   "outputs": [],
   "source": []
  },
  {
   "cell_type": "code",
   "execution_count": null,
   "id": "2b008a0f",
   "metadata": {},
   "outputs": [],
   "source": []
  },
  {
   "cell_type": "code",
   "execution_count": null,
   "id": "a7e217fb",
   "metadata": {},
   "outputs": [],
   "source": []
  },
  {
   "cell_type": "code",
   "execution_count": null,
   "id": "90fa0649",
   "metadata": {},
   "outputs": [],
   "source": []
  },
  {
   "cell_type": "code",
   "execution_count": null,
   "id": "b7dec980",
   "metadata": {},
   "outputs": [],
   "source": []
  },
  {
   "cell_type": "code",
   "execution_count": null,
   "id": "df488ce9",
   "metadata": {},
   "outputs": [],
   "source": []
  },
  {
   "cell_type": "code",
   "execution_count": null,
   "id": "5dfe640a",
   "metadata": {},
   "outputs": [],
   "source": []
  }
 ],
 "metadata": {
  "kernelspec": {
   "display_name": "Python 3 (ipykernel)",
   "language": "python",
   "name": "python3"
  },
  "language_info": {
   "codemirror_mode": {
    "name": "ipython",
    "version": 3
   },
   "file_extension": ".py",
   "mimetype": "text/x-python",
   "name": "python",
   "nbconvert_exporter": "python",
   "pygments_lexer": "ipython3",
   "version": "3.11.4"
  }
 },
 "nbformat": 4,
 "nbformat_minor": 5
}
