{
 "cells": [
  {
   "cell_type": "code",
   "execution_count": 3,
   "id": "0e0e01c6",
   "metadata": {},
   "outputs": [],
   "source": [
    "import numpy as np\n",
    "import matplotlib.pyplot as plt\n",
    "from PIL import Image"
   ]
  },
  {
   "cell_type": "markdown",
   "id": "b1587dc7",
   "metadata": {},
   "source": [
    "# function to take image and convert it to numpy array"
   ]
  },
  {
   "cell_type": "code",
   "execution_count": 4,
   "id": "c21dfb42",
   "metadata": {},
   "outputs": [],
   "source": [
    "def npimage(s):\n",
    "    image_ = Image.open(s)\n",
    "    image_c = image_.convert('L')\n",
    "    image = np.array(image_c)\n",
    "    image = image.astype(np.float64)\n",
    "    return image"
   ]
  },
  {
   "cell_type": "markdown",
   "id": "5da563c7",
   "metadata": {},
   "source": [
    "# scale function to constrict pixel values to 0 to 255"
   ]
  },
  {
   "cell_type": "code",
   "execution_count": 5,
   "id": "44ed4893",
   "metadata": {},
   "outputs": [],
   "source": [
    "def scale(image):\n",
    "    current_max = np.max(image)\n",
    "    current_min = np.min(image)\n",
    "    scaled_image = ((image-current_min) / (current_max-current_min)) * 255\n",
    "    return scaled_image"
   ]
  },
  {
   "cell_type": "markdown",
   "id": "ffe4b989",
   "metadata": {},
   "source": [
    "# dct function"
   ]
  },
  {
   "cell_type": "code",
   "execution_count": 6,
   "id": "d3fdb5f9",
   "metadata": {},
   "outputs": [],
   "source": [
    "def dct(array):\n",
    "    n = array.shape[0]\n",
    "    l = np.arange(n)[:, np.newaxis]\n",
    "    r = np.arange(n)\n",
    "    \n",
    "    cos_matrix = np.cos(np.pi * (2 * r + 1) * l / (2 * n))\n",
    "    \n",
    "    cos_matrix[0, :] *= 1 / np.sqrt(2)\n",
    "    \n",
    "    cos_matrix = np.sqrt(2 / n) * cos_matrix\n",
    "    \n",
    "    return np.dot(cos_matrix, array)"
   ]
  },
  {
   "cell_type": "markdown",
   "id": "0a41f64a",
   "metadata": {},
   "source": [
    "# inverse dct function"
   ]
  },
  {
   "cell_type": "code",
   "execution_count": 7,
   "id": "fb3bba53",
   "metadata": {},
   "outputs": [],
   "source": [
    "def idct(array):\n",
    "    n = array.shape[0]\n",
    "    l = np.arange(n)[:, np.newaxis]\n",
    "    r = np.arange(n)\n",
    "    \n",
    "    cos_matrix = np.cos(np.pi * ((2 * r + 1) * l).T / (2 * n))\n",
    "    \n",
    "    cos_matrix[:, 0] *= 1 / np.sqrt(2)\n",
    "    cos_matrix = np.sqrt(2 / n) * cos_matrix\n",
    "    \n",
    "    return np.dot(cos_matrix, array)"
   ]
  },
  {
   "cell_type": "markdown",
   "id": "c58be056",
   "metadata": {},
   "source": [
    "# testing above code"
   ]
  },
  {
   "cell_type": "code",
   "execution_count": 340,
   "id": "149cabe5",
   "metadata": {},
   "outputs": [],
   "source": [
    "with open('zig_zag_t.txt', 'r') as file:\n",
    "    numbers = [int(line.strip()) for line in file]\n",
    "\n",
    "l = np.array(numbers)"
   ]
  },
  {
   "cell_type": "code",
   "execution_count": null,
   "id": "544e0f50",
   "metadata": {},
   "outputs": [],
   "source": [
    "n=6553\n",
    "l_=np.random.randint(0,255,size=n)\n",
    "w1=np.where(l_>128,1,-1)\n",
    "w=w1[0:n:2]\n",
    "# print(l_)"
   ]
  },
  {
   "cell_type": "code",
   "execution_count": 119,
   "id": "edf46ba2",
   "metadata": {},
   "outputs": [],
   "source": [
    "from scipy.signal import butter, lfilter\n",
    "\n",
    "# Function to create and apply a Butterworth low-pass filter\n",
    "def butter_lowpass_filter(data, cutoff, fs, order=4):\n",
    "    nyquist = 0.5 * fs\n",
    "    normal_cutoff = cutoff / nyquist\n",
    "    b, a = butter(order, normal_cutoff, btype='low', analog=False)\n",
    "    y = lfilter(b, a, data)\n",
    "    return y\n",
    "\n",
    "l = butter_lowpass_filter(l_, 1, 30, 4)\n",
    "\n",
    "\n",
    "# print(l)"
   ]
  },
  {
   "cell_type": "code",
   "execution_count": 120,
   "id": "37628a8f",
   "metadata": {},
   "outputs": [],
   "source": [
    "a=0.1"
   ]
  },
  {
   "cell_type": "code",
   "execution_count": null,
   "id": "ebb86631",
   "metadata": {},
   "outputs": [],
   "source": [
    "l1=l[0:n:2]\n",
    "l2=l[1:n:2]\n",
    "l1_=dct(l1)\n",
    "l2_=dct(l2)"
   ]
  },
  {
   "cell_type": "code",
   "execution_count": null,
   "id": "bc314dfc",
   "metadata": {},
   "outputs": [],
   "source": [
    "m1=(l1_+l2_)/2+a*w\n",
    "m2=(l1_+l2_)/2-a*w\n",
    "m1_=idct(m1)\n",
    "m2_=idct(m2)"
   ]
  },
  {
   "cell_type": "code",
   "execution_count": null,
   "id": "4ad71eec",
   "metadata": {},
   "outputs": [],
   "source": [
    "m=np.zeros(n)\n",
    "m[0:n:2]=m1_\n",
    "m[1:n:2]=m2_"
   ]
  },
  {
   "cell_type": "code",
   "execution_count": null,
   "id": "13387db5",
   "metadata": {},
   "outputs": [],
   "source": [
    "# print(m)\n",
    "print(np.mean((m-l)**2))"
   ]
  },
  {
   "cell_type": "code",
   "execution_count": null,
   "id": "0ef0070a",
   "metadata": {},
   "outputs": [],
   "source": [
    "m_=butter_lowpass_filter(m, 14, 30, 4)"
   ]
  },
  {
   "cell_type": "code",
   "execution_count": null,
   "id": "954524e4",
   "metadata": {},
   "outputs": [],
   "source": [
    "d1=m_[0:n:2]\n",
    "d2=m_[1:n:2]\n",
    "d1_=dct(d1)\n",
    "d2_=dct(d2)\n",
    "w_=(d1_-d2_)/(2*a)\n",
    "w_ = np.where(w_ > 0, 1, -1)\n",
    "# print(w)\n",
    "# print(w_)"
   ]
  },
  {
   "cell_type": "code",
   "execution_count": null,
   "id": "b52f4736",
   "metadata": {},
   "outputs": [],
   "source": [
    "print(f'{100-25*np.mean((w_-w)**2)}% match')"
   ]
  },
  {
   "cell_type": "code",
   "execution_count": null,
   "id": "842df5ca",
   "metadata": {},
   "outputs": [],
   "source": []
  },
  {
   "cell_type": "code",
   "execution_count": null,
   "id": "59c25f86",
   "metadata": {},
   "outputs": [],
   "source": []
  },
  {
   "cell_type": "code",
   "execution_count": null,
   "id": "dd36599e",
   "metadata": {},
   "outputs": [],
   "source": []
  },
  {
   "cell_type": "code",
   "execution_count": 356,
   "id": "a488d1d8",
   "metadata": {},
   "outputs": [],
   "source": [
    "np.savetxt('zig_zag_tr.txt', l_idct, fmt='%d', delimiter=' ')"
   ]
  },
  {
   "cell_type": "code",
   "execution_count": 362,
   "id": "e8eeb5d4",
   "metadata": {},
   "outputs": [
    {
     "name": "stdout",
     "output_type": "stream",
     "text": [
      "1.2099999999972182\n"
     ]
    }
   ],
   "source": [
    "print(np.mean((l_idct-l)**2))"
   ]
  },
  {
   "cell_type": "code",
   "execution_count": 358,
   "id": "8acc88ed",
   "metadata": {},
   "outputs": [],
   "source": []
  },
  {
   "cell_type": "code",
   "execution_count": null,
   "id": "72452b1d",
   "metadata": {},
   "outputs": [],
   "source": []
  }
 ],
 "metadata": {
  "kernelspec": {
   "display_name": "Python 3 (ipykernel)",
   "language": "python",
   "name": "python3"
  },
  "language_info": {
   "codemirror_mode": {
    "name": "ipython",
    "version": 3
   },
   "file_extension": ".py",
   "mimetype": "text/x-python",
   "name": "python",
   "nbconvert_exporter": "python",
   "pygments_lexer": "ipython3",
   "version": "3.11.4"
  }
 },
 "nbformat": 4,
 "nbformat_minor": 5
}
