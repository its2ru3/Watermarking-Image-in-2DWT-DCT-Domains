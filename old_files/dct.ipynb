{
 "cells": [
  {
   "cell_type": "code",
   "execution_count": 1,
   "id": "0e0e01c6",
   "metadata": {},
   "outputs": [],
   "source": [
    "import numpy as np\n",
    "import matplotlib.pyplot as plt\n",
    "from PIL import Image"
   ]
  },
  {
   "cell_type": "markdown",
   "id": "b1587dc7",
   "metadata": {},
   "source": [
    "# function to take image and convert it to numpy array"
   ]
  },
  {
   "cell_type": "code",
   "execution_count": 2,
   "id": "c21dfb42",
   "metadata": {},
   "outputs": [],
   "source": [
    "def npimage(s):\n",
    "    image_ = Image.open(s)\n",
    "    image_c = image_.convert('L')\n",
    "    image = np.array(image_c)\n",
    "    image = image.astype(np.float64)\n",
    "    return image"
   ]
  },
  {
   "cell_type": "markdown",
   "id": "5da563c7",
   "metadata": {},
   "source": [
    "# scale function to constrict pixel values to 0 to 255"
   ]
  },
  {
   "cell_type": "code",
   "execution_count": 3,
   "id": "44ed4893",
   "metadata": {},
   "outputs": [],
   "source": [
    "def scale(image):\n",
    "    current_max = np.max(image)\n",
    "    current_min = np.min(image)\n",
    "    scaled_image = ((image-current_min) / (current_max-current_min)) * 255\n",
    "    return scaled_image"
   ]
  },
  {
   "cell_type": "markdown",
   "id": "ffe4b989",
   "metadata": {},
   "source": [
    "# dct function"
   ]
  },
  {
   "cell_type": "code",
   "execution_count": 4,
   "id": "d3fdb5f9",
   "metadata": {},
   "outputs": [],
   "source": [
    "def dct(array):\n",
    "    n = array.shape[0]\n",
    "    l = np.arange(n)[:, np.newaxis]\n",
    "    r = np.arange(n)\n",
    "    \n",
    "    cos_matrix = np.cos(np.pi * (2 * r + 1) * l / (2 * n))\n",
    "    \n",
    "    cos_matrix[0, :] *= 1 / np.sqrt(2)\n",
    "    \n",
    "    cos_matrix = np.sqrt(2 / n) * cos_matrix\n",
    "    \n",
    "    return np.dot(cos_matrix, array)"
   ]
  },
  {
   "cell_type": "markdown",
   "id": "0a41f64a",
   "metadata": {},
   "source": [
    "# inverse dct function"
   ]
  },
  {
   "cell_type": "code",
   "execution_count": 5,
   "id": "fb3bba53",
   "metadata": {},
   "outputs": [],
   "source": [
    "def idct(array):\n",
    "    n = array.shape[0]\n",
    "    l = np.arange(n)[:, np.newaxis]\n",
    "    r = np.arange(n)\n",
    "    \n",
    "    cos_matrix = np.cos(np.pi * ((2 * r + 1) * l).T / (2 * n))\n",
    "    \n",
    "    cos_matrix[:, 0] *= 1 / np.sqrt(2)\n",
    "    cos_matrix = np.sqrt(2 / n) * cos_matrix\n",
    "    \n",
    "    return np.dot(cos_matrix, array)"
   ]
  },
  {
   "cell_type": "markdown",
   "id": "c58be056",
   "metadata": {},
   "source": [
    "# testing above code"
   ]
  },
  {
   "cell_type": "code",
   "execution_count": 133,
   "id": "149cabe5",
   "metadata": {},
   "outputs": [
    {
     "name": "stdout",
     "output_type": "stream",
     "text": [
      "[193 175 198 ...  60  68  63]\n"
     ]
    }
   ],
   "source": [
    "with open('zig_zag_t.txt', 'r') as file:\n",
    "    numbers = [int(line.strip()) for line in file]\n",
    "\n",
    "l = np.array(numbers)"
   ]
  },
  {
   "cell_type": "code",
   "execution_count": 124,
   "id": "544e0f50",
   "metadata": {},
   "outputs": [],
   "source": [
    "n=l.shape[0]\n",
    "w1=np.where(l>128,1,-1)\n",
    "w=w1[0:n:2]"
   ]
  },
  {
   "cell_type": "code",
   "execution_count": 125,
   "id": "37628a8f",
   "metadata": {},
   "outputs": [],
   "source": [
    "a=0.001"
   ]
  },
  {
   "cell_type": "code",
   "execution_count": 126,
   "id": "ebb86631",
   "metadata": {},
   "outputs": [],
   "source": [
    "l1=l[0:n:2]\n",
    "l2=l[1:n:2]\n",
    "l1_=dct(l1)\n",
    "l2_=dct(l2)"
   ]
  },
  {
   "cell_type": "code",
   "execution_count": 127,
   "id": "bc314dfc",
   "metadata": {},
   "outputs": [],
   "source": [
    "m1=(l1_+l2_)/2+a*w\n",
    "m2=(l1_+l2_)/2-a*w\n",
    "m1_=idct(m1)\n",
    "m2_=idct(m2)"
   ]
  },
  {
   "cell_type": "code",
   "execution_count": 128,
   "id": "4ad71eec",
   "metadata": {},
   "outputs": [],
   "source": [
    "m=np.zeros(n)\n",
    "m[0:n:2]=m1_\n",
    "m[1:n:2]=m2_"
   ]
  },
  {
   "cell_type": "code",
   "execution_count": 129,
   "id": "13387db5",
   "metadata": {},
   "outputs": [
    {
     "name": "stdout",
     "output_type": "stream",
     "text": [
      "251.084659835131\n"
     ]
    }
   ],
   "source": [
    "print(np.mean((m-l)**2))"
   ]
  },
  {
   "cell_type": "code",
   "execution_count": 130,
   "id": "0ef0070a",
   "metadata": {},
   "outputs": [],
   "source": [
    "m_=m"
   ]
  },
  {
   "cell_type": "code",
   "execution_count": 131,
   "id": "954524e4",
   "metadata": {},
   "outputs": [],
   "source": [
    "d1=m_[0:n:2]\n",
    "d2=m_[1:n:2]\n",
    "d1_=dct(d1)\n",
    "d2_=dct(d2)\n",
    "w_=(d1_-d2_)/(2*a)\n",
    "w_ = np.where(w_ > 0, 1, -1)"
   ]
  },
  {
   "cell_type": "code",
   "execution_count": 132,
   "id": "b52f4736",
   "metadata": {},
   "outputs": [
    {
     "name": "stdout",
     "output_type": "stream",
     "text": [
      "100.0% match\n"
     ]
    }
   ],
   "source": [
    "print(f'{100-25*np.mean((w_-w)**2)}% match')"
   ]
  },
  {
   "cell_type": "code",
   "execution_count": null,
   "id": "842df5ca",
   "metadata": {},
   "outputs": [],
   "source": []
  },
  {
   "cell_type": "code",
   "execution_count": null,
   "id": "59c25f86",
   "metadata": {},
   "outputs": [],
   "source": []
  },
  {
   "cell_type": "code",
   "execution_count": null,
   "id": "dd36599e",
   "metadata": {},
   "outputs": [],
   "source": []
  },
  {
   "cell_type": "code",
   "execution_count": 356,
   "id": "a488d1d8",
   "metadata": {},
   "outputs": [],
   "source": [
    "np.savetxt('zig_zag_tr.txt', l_idct, fmt='%d', delimiter=' ')"
   ]
  },
  {
   "cell_type": "code",
   "execution_count": 362,
   "id": "e8eeb5d4",
   "metadata": {},
   "outputs": [
    {
     "name": "stdout",
     "output_type": "stream",
     "text": [
      "1.2099999999972182\n"
     ]
    }
   ],
   "source": [
    "print(np.mean((l_idct-l)**2))"
   ]
  },
  {
   "cell_type": "code",
   "execution_count": 358,
   "id": "8acc88ed",
   "metadata": {},
   "outputs": [],
   "source": []
  },
  {
   "cell_type": "code",
   "execution_count": null,
   "id": "72452b1d",
   "metadata": {},
   "outputs": [],
   "source": []
  }
 ],
 "metadata": {
  "kernelspec": {
   "display_name": "Python 3 (ipykernel)",
   "language": "python",
   "name": "python3"
  },
  "language_info": {
   "codemirror_mode": {
    "name": "ipython",
    "version": 3
   },
   "file_extension": ".py",
   "mimetype": "text/x-python",
   "name": "python",
   "nbconvert_exporter": "python",
   "pygments_lexer": "ipython3",
   "version": "3.11.4"
  }
 },
 "nbformat": 4,
 "nbformat_minor": 5
}
