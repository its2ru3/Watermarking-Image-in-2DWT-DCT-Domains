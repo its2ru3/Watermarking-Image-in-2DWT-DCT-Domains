{
 "cells": [
  {
   "cell_type": "code",
   "execution_count": 1,
   "metadata": {},
   "outputs": [],
   "source": [
    "# given fxy 2D-array\n",
    "import numpy as np\n",
    "\n",
    "# Define dimensions and range\n",
    "m = 8\n",
    "low, high = 0, 255\n",
    "\n",
    "I1 = np.random.randint(low, high, size=(m, m))\n",
    "I2 = np.random.randint(low, high, size=(m, m))\n",
    "# print(I1)\n"
   ]
  },
  {
   "cell_type": "markdown",
   "metadata": {},
   "source": [
    "## Performance Metrices"
   ]
  },
  {
   "cell_type": "markdown",
   "metadata": {},
   "source": [
    "### PSNR - Peak Signal to Noise Ratio"
   ]
  },
  {
   "cell_type": "code",
   "execution_count": 28,
   "metadata": {},
   "outputs": [
    {
     "name": "stdout",
     "output_type": "stream",
     "text": [
      "5858.1875\n"
     ]
    }
   ],
   "source": [
    "Max = np.max(I1)\n",
    "# print(Max)\n",
    "MSE = 0\n",
    "for i in range(m):\n",
    "    for j in range(m):\n",
    "        MSE += (I1[i][j] - I2[i][j])**2\n",
    "MSE /= m**2\n",
    "print(MSE)"
   ]
  },
  {
   "cell_type": "code",
   "execution_count": 29,
   "metadata": {},
   "outputs": [
    {
     "name": "stdout",
     "output_type": "stream",
     "text": [
      "10.419041654313064\n"
     ]
    }
   ],
   "source": [
    "PSNR = 10*np.log10(Max**2 / MSE)\n",
    "print(PSNR)"
   ]
  },
  {
   "cell_type": "markdown",
   "metadata": {},
   "source": [
    "### SSIM"
   ]
  },
  {
   "cell_type": "code",
   "execution_count": 30,
   "metadata": {},
   "outputs": [
    {
     "name": "stdout",
     "output_type": "stream",
     "text": [
      "119.375 123.6875 4733.859375 3890.87109375 5839.58984375\n"
     ]
    }
   ],
   "source": [
    "mu1 = np.average(I1)\n",
    "mu2 = np.average(I2)\n",
    "/sigma = np.var(I1)\n",
    "sigma2 = np.var(I2)\n",
    "I1_minus_I2 = I1 - I2\n",
    "sigma12 = np.var(I1_minus_I2)\n",
    "print(mu1, mu2, sigma1, sigma2, sigma12)"
   ]
  },
  {
   "cell_type": "code",
   "execution_count": 31,
   "metadata": {},
   "outputs": [
    {
     "name": "stdout",
     "output_type": "stream",
     "text": [
      "0.00031350977134444763\n"
     ]
    }
   ],
   "source": [
    "# C1 and C2 are constants that ensure stability when the denominator becomes 0\n",
    "C1 = 100\n",
    "C2 = 100\n",
    "\n",
    "SSIM = ( (2*mu1*mu2 + C1) * (2*sigma12 + C2) ) / ( (mu1**2 + mu2**2 + C1) * (sigma1**2 + sigma2**2 + C2) )\n",
    "print(SSIM)"
   ]
  },
  {
   "cell_type": "code",
   "execution_count": null,
   "metadata": {},
   "outputs": [],
   "source": []
  }
 ],
 "metadata": {
  "kernelspec": {
   "display_name": "Python 3",
   "language": "python",
   "name": "python3"
  },
  "language_info": {
   "codemirror_mode": {
    "name": "ipython",
    "version": 3
   },
   "file_extension": ".py",
   "mimetype": "text/x-python",
   "name": "python",
   "nbconvert_exporter": "python",
   "pygments_lexer": "ipython3",
   "version": "3.12.7"
  }
 },
 "nbformat": 4,
 "nbformat_minor": 2
}
