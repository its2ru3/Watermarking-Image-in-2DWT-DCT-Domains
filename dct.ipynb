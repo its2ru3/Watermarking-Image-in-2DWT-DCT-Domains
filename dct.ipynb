{
 "cells": [
  {
   "cell_type": "code",
   "execution_count": 188,
   "id": "0e0e01c6",
   "metadata": {},
   "outputs": [],
   "source": [
    "import numpy as np\n",
    "import matplotlib.pyplot as plt\n",
    "from PIL import Image"
   ]
  },
  {
   "cell_type": "markdown",
   "id": "b1587dc7",
   "metadata": {},
   "source": [
    "# function to take image and convert it to numpy array"
   ]
  },
  {
   "cell_type": "code",
   "execution_count": 189,
   "id": "c21dfb42",
   "metadata": {},
   "outputs": [],
   "source": [
    "def npimage(s):\n",
    "    image_ = Image.open(s)\n",
    "    image_c = image_.convert('L')\n",
    "    image = np.array(image_c)\n",
    "    image = image.astype(np.float64)\n",
    "    return image"
   ]
  },
  {
   "cell_type": "markdown",
   "id": "5da563c7",
   "metadata": {},
   "source": [
    "# scale function to constrict pixel values to 0 to 255"
   ]
  },
  {
   "cell_type": "code",
   "execution_count": 190,
   "id": "44ed4893",
   "metadata": {},
   "outputs": [],
   "source": [
    "def scale(image):\n",
    "    current_max = np.max(image)\n",
    "    current_min = np.min(image)\n",
    "    scaled_image = ((image-current_min) / (current_max-current_min)) * 255\n",
    "    return scaled_image"
   ]
  },
  {
   "cell_type": "markdown",
   "id": "ffe4b989",
   "metadata": {},
   "source": [
    "# dct function"
   ]
  },
  {
   "cell_type": "code",
   "execution_count": 289,
   "id": "d3fdb5f9",
   "metadata": {},
   "outputs": [],
   "source": [
    "def dct(array):\n",
    "    n = array.shape[0]\n",
    "    l = np.arange(n)[:, np.newaxis]\n",
    "    r = np.arange(n)\n",
    "    \n",
    "    cos_matrix = np.cos(np.pi * (2 * r + 1) * l / (2 * n))\n",
    "    \n",
    "    cos_matrix[0, :] *= 1 / np.sqrt(2)\n",
    "    \n",
    "    cos_matrix = np.sqrt(2 / n) * cos_matrix\n",
    "    \n",
    "    return np.dot(cos_matrix, array)"
   ]
  },
  {
   "cell_type": "markdown",
   "id": "0a41f64a",
   "metadata": {},
   "source": [
    "# inverse dct function"
   ]
  },
  {
   "cell_type": "code",
   "execution_count": 290,
   "id": "fb3bba53",
   "metadata": {},
   "outputs": [],
   "source": [
    "def idct(array):\n",
    "    n = array.shape[0]\n",
    "    l = np.arange(n)[:, np.newaxis]\n",
    "    r = np.arange(n)\n",
    "    \n",
    "    cos_matrix = np.cos(np.pi * ((2 * r + 1) * l).T / (2 * n))\n",
    "    \n",
    "    cos_matrix[:, 0] *= 1 / np.sqrt(2)\n",
    "    cos_matrix = np.sqrt(2 / n) * cos_matrix\n",
    "    \n",
    "    return np.dot(cos_matrix, array)"
   ]
  },
  {
   "cell_type": "markdown",
   "id": "c58be056",
   "metadata": {},
   "source": [
    "# testing above code"
   ]
  },
  {
   "cell_type": "code",
   "execution_count": 340,
   "id": "149cabe5",
   "metadata": {},
   "outputs": [],
   "source": [
    "with open('zig_zag_t.txt', 'r') as file:\n",
    "    numbers = [int(line.strip()) for line in file]\n",
    "\n",
    "l = np.array(numbers)"
   ]
  },
  {
   "cell_type": "code",
   "execution_count": 341,
   "id": "544e0f50",
   "metadata": {},
   "outputs": [],
   "source": [
    "l_dct=dct(l)"
   ]
  },
  {
   "cell_type": "code",
   "execution_count": 351,
   "id": "ebb86631",
   "metadata": {},
   "outputs": [],
   "source": [
    "n=l.shape\n",
    "w=np.random.choice([1,-1],size=n)"
   ]
  },
  {
   "cell_type": "code",
   "execution_count": 359,
   "id": "f536a39f",
   "metadata": {},
   "outputs": [],
   "source": [
    "a=1"
   ]
  },
  {
   "cell_type": "code",
   "execution_count": 360,
   "id": "4ad71eec",
   "metadata": {},
   "outputs": [],
   "source": [
    "l_dct=l_dct+a*w"
   ]
  },
  {
   "cell_type": "code",
   "execution_count": 361,
   "id": "0ef0070a",
   "metadata": {},
   "outputs": [],
   "source": [
    "l_idct=idct(l_dct)"
   ]
  },
  {
   "cell_type": "code",
   "execution_count": 356,
   "id": "a488d1d8",
   "metadata": {},
   "outputs": [],
   "source": [
    "np.savetxt('zig_zag_tr.txt', l_idct, fmt='%d', delimiter=' ')"
   ]
  },
  {
   "cell_type": "code",
   "execution_count": 362,
   "id": "e8eeb5d4",
   "metadata": {},
   "outputs": [
    {
     "name": "stdout",
     "output_type": "stream",
     "text": [
      "1.2099999999972182\n"
     ]
    }
   ],
   "source": [
    "print(np.mean((l_idct-l)**2))"
   ]
  },
  {
   "cell_type": "code",
   "execution_count": 358,
   "id": "8acc88ed",
   "metadata": {},
   "outputs": [],
   "source": []
  },
  {
   "cell_type": "code",
   "execution_count": null,
   "id": "72452b1d",
   "metadata": {},
   "outputs": [],
   "source": []
  }
 ],
 "metadata": {
  "kernelspec": {
   "display_name": "Python 3 (ipykernel)",
   "language": "python",
   "name": "python3"
  },
  "language_info": {
   "codemirror_mode": {
    "name": "ipython",
    "version": 3
   },
   "file_extension": ".py",
   "mimetype": "text/x-python",
   "name": "python",
   "nbconvert_exporter": "python",
   "pygments_lexer": "ipython3",
   "version": "3.11.4"
  }
 },
 "nbformat": 4,
 "nbformat_minor": 5
}
