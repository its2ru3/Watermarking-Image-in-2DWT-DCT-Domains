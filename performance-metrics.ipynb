{
 "cells": [
  {
   "cell_type": "code",
   "execution_count": 82,
   "metadata": {},
   "outputs": [],
   "source": [
    "# given, I1 and I2 are 2D-arrays\n",
    "import numpy as np\n",
    "\n",
    "# Define dimensions and range\n",
    "m = 10\n",
    "low, high = 0, 255\n",
    "max_diff = 10\n",
    "\n",
    "I1 = np.random.randint(low, high, size=(m, m))\n",
    "# Generate the second array by adding small random differences\n",
    "noise = np.random.randint(-max_diff, max_diff + 1, size=(m, m))\n",
    "I2 = I1 + noise\n",
    "# Clip values to stay within the original range [low, high)\n",
    "I2 = np.clip(I2, low, high - 1)\n",
    "\n",
    "# print(I1, \"\\n\", I2)"
   ]
  },
  {
   "cell_type": "markdown",
   "metadata": {},
   "source": [
    "## Performance Metrics"
   ]
  },
  {
   "cell_type": "markdown",
   "metadata": {},
   "source": [
    "### PSNR - Peak Signal to Noise Ratio"
   ]
  },
  {
   "cell_type": "code",
   "execution_count": 83,
   "metadata": {},
   "outputs": [
    {
     "name": "stdout",
     "output_type": "stream",
     "text": [
      "39.54\n"
     ]
    }
   ],
   "source": [
    "Max = np.max(I1)\n",
    "# print(Max)\n",
    "MSE = 0\n",
    "for i in range(m):\n",
    "    for j in range(m):\n",
    "        MSE += (I1[i][j] - I2[i][j])**2\n",
    "MSE /= m**2\n",
    "print(MSE)"
   ]
  },
  {
   "cell_type": "code",
   "execution_count": 84,
   "metadata": {},
   "outputs": [
    {
     "name": "stdout",
     "output_type": "stream",
     "text": [
      "31.95362029213819\n"
     ]
    }
   ],
   "source": [
    "PSNR = 10*np.log10(Max**2 / MSE)\n",
    "print(PSNR)"
   ]
  },
  {
   "cell_type": "markdown",
   "metadata": {},
   "source": [
    "### SSIM"
   ]
  },
  {
   "cell_type": "code",
   "execution_count": 75,
   "metadata": {},
   "outputs": [
    {
     "name": "stdout",
     "output_type": "stream",
     "text": [
      "124.94 123.91 5147.8364 5298.1019 5213.863232323232\n"
     ]
    }
   ],
   "source": [
    "mu1 = np.mean(I1)\n",
    "mu2 = np.mean(I2)\n",
    "sigma1_sqr = np.var(I1)\n",
    "sigma2_sqr = np.var(I2)\n",
    "\n",
    "covariance_matrix = np.cov(I1.flatten(), I2.flatten())\n",
    "# Extract the covariance value between I1 and I2\n",
    "sigma12 = covariance_matrix[0, 1]\n",
    "\n",
    "print(mu1, mu2, sigma1_sqr, sigma2_sqr, sigma12)"
   ]
  },
  {
   "cell_type": "code",
   "execution_count": 78,
   "metadata": {},
   "outputs": [
    {
     "name": "stdout",
     "output_type": "stream",
     "text": [
      "0.99969877401821\n"
     ]
    }
   ],
   "source": [
    "# C1 and C2 are constants that ensure stability when the denominator becomes 0\n",
    "#   Commonly, C1=(K1×L)^2 and C2=(K2×L)^2, where L is the dynamic range of the pixel values\n",
    "#   (e.g., 255 for 8-bit images), and K1​ and K2​ are small constants (e.g., 0.01 and 0.03)\n",
    "K1 = 0.01\n",
    "K2 = 0.03\n",
    "L = 255 # for 8-bit grey-scale image\n",
    "C1 = (K1*L)**2\n",
    "C2 = (K2*L)**2\n",
    "\n",
    "SSIM = ( (2*mu1*mu2 + C1) * (2*sigma12 + C2) ) / ( (mu1**2 + mu2**2 + C1) * (sigma1_sqr + sigma2_sqr + C2) )\n",
    "SSIM = np.clip(SSIM,0,1)\n",
    "print(SSIM)"
   ]
  },
  {
   "cell_type": "code",
   "execution_count": null,
   "metadata": {},
   "outputs": [],
   "source": []
  },
  {
   "cell_type": "markdown",
   "metadata": {},
   "source": [
    "### BCR - Bit Correction Rate"
   ]
  },
  {
   "cell_type": "code",
   "execution_count": 18,
   "metadata": {},
   "outputs": [],
   "source": [
    "z = 128\n",
    "W = np.random.choice([0,1], size=z)\n",
    "W_ = np.random.choice([0,1], size=z)\n",
    "\n",
    "BCR = 0\n",
    "for i in range(z):\n",
    "    BCR += 1-(W[i]^W_[i])\n",
    "\n",
    "BCR *= 100/z\n",
    "# print(W, \"\\n\", W_, \"\\n\", BCR)"
   ]
  },
  {
   "cell_type": "code",
   "execution_count": null,
   "metadata": {},
   "outputs": [],
   "source": []
  }
 ],
 "metadata": {
  "kernelspec": {
   "display_name": "Python 3",
   "language": "python",
   "name": "python3"
  },
  "language_info": {
   "codemirror_mode": {
    "name": "ipython",
    "version": 3
   },
   "file_extension": ".py",
   "mimetype": "text/x-python",
   "name": "python",
   "nbconvert_exporter": "python",
   "pygments_lexer": "ipython3",
   "version": "3.12.7"
  }
 },
 "nbformat": 4,
 "nbformat_minor": 2
}
