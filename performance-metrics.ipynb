{
 "cells": [
  {
   "cell_type": "code",
   "execution_count": 1,
   "metadata": {},
   "outputs": [],
   "source": [
    "# given fxy 2D-array\n",
    "import numpy as np\n",
    "\n",
    "# Define dimensions and range\n",
    "m = 8\n",
    "low, high = 0, 255\n",
    "\n",
    "I1 = np.random.randint(low, high, size=(m, m))\n",
    "I2 = np.random.randint(low, high, size=(m, m))\n",
    "# print(I1)\n"
   ]
  },
  {
   "cell_type": "markdown",
   "metadata": {},
   "source": [
    "## Performance Metrics"
   ]
  },
  {
   "cell_type": "markdown",
   "metadata": {},
   "source": [
    "### PSNR - Peak Signal to Noise Ratio"
   ]
  },
  {
   "cell_type": "code",
   "execution_count": 2,
   "metadata": {},
   "outputs": [
    {
     "name": "stdout",
     "output_type": "stream",
     "text": [
      "10279.59375\n"
     ]
    }
   ],
   "source": [
    "Max = np.max(I1)\n",
    "# print(Max)\n",
    "MSE = 0\n",
    "for i in range(m):\n",
    "    for j in range(m):\n",
    "        MSE += (I1[i][j] - I2[i][j])**2\n",
    "MSE /= m**2\n",
    "print(MSE)"
   ]
  },
  {
   "cell_type": "code",
   "execution_count": 3,
   "metadata": {},
   "outputs": [
    {
     "name": "stdout",
     "output_type": "stream",
     "text": [
      "7.97691481578628\n"
     ]
    }
   ],
   "source": [
    "PSNR = 10*np.log10(Max**2 / MSE)\n",
    "print(PSNR)"
   ]
  },
  {
   "cell_type": "markdown",
   "metadata": {},
   "source": [
    "### SSIM"
   ]
  },
  {
   "cell_type": "code",
   "execution_count": 4,
   "metadata": {},
   "outputs": [
    {
     "name": "stdout",
     "output_type": "stream",
     "text": [
      "132.265625 115.265625 5670.851318359375 4864.945068359375 9990.59375\n"
     ]
    }
   ],
   "source": [
    "mu1 = np.average(I1)\n",
    "mu2 = np.average(I2)\n",
    "sigma1 = np.var(I1)\n",
    "sigma2 = np.var(I2)\n",
    "I1_minus_I2 = I1 - I2\n",
    "sigma12 = np.var(I1_minus_I2)\n",
    "print(mu1, mu2, sigma1, sigma2, sigma12)"
   ]
  },
  {
   "cell_type": "code",
   "execution_count": 5,
   "metadata": {},
   "outputs": [
    {
     "name": "stdout",
     "output_type": "stream",
     "text": [
      "0.0003563416812841301\n"
     ]
    }
   ],
   "source": [
    "# C1 and C2 are constants that ensure stability when the denominator becomes 0\n",
    "C1 = 100\n",
    "C2 = 100\n",
    "\n",
    "SSIM = ( (2*mu1*mu2 + C1) * (2*sigma12 + C2) ) / ( (mu1**2 + mu2**2 + C1) * (sigma1**2 + sigma2**2 + C2) )\n",
    "print(SSIM)"
   ]
  },
  {
   "cell_type": "code",
   "execution_count": null,
   "metadata": {},
   "outputs": [],
   "source": []
  },
  {
   "cell_type": "markdown",
   "metadata": {},
   "source": [
    "### BCR - Bit Correction Rate"
   ]
  },
  {
   "cell_type": "code",
   "execution_count": 18,
   "metadata": {},
   "outputs": [],
   "source": [
    "z = 128\n",
    "W = np.random.choice([0,1], size=z)\n",
    "W_ = np.random.choice([0,1], size=z)\n",
    "\n",
    "BCR = 0\n",
    "for i in range(z):\n",
    "    BCR += 1-(W[i]^W_[i])\n",
    "\n",
    "BCR *= 100/z\n",
    "# print(W, \"\\n\", W_, \"\\n\", BCR)"
   ]
  },
  {
   "cell_type": "code",
   "execution_count": null,
   "metadata": {},
   "outputs": [],
   "source": []
  }
 ],
 "metadata": {
  "kernelspec": {
   "display_name": "Python 3",
   "language": "python",
   "name": "python3"
  },
  "language_info": {
   "codemirror_mode": {
    "name": "ipython",
    "version": 3
   },
   "file_extension": ".py",
   "mimetype": "text/x-python",
   "name": "python",
   "nbconvert_exporter": "python",
   "pygments_lexer": "ipython3",
   "version": "3.12.7"
  }
 },
 "nbformat": 4,
 "nbformat_minor": 2
}
