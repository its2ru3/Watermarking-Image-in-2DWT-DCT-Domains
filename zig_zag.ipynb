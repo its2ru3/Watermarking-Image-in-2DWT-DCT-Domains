{
 "cells": [
  {
   "cell_type": "code",
   "execution_count": 252,
   "id": "1440b815",
   "metadata": {},
   "outputs": [],
   "source": [
    "import numpy as np\n",
    "import matplotlib.pyplot as plt\n",
    "from PIL import Image"
   ]
  },
  {
   "cell_type": "markdown",
   "id": "6136d193",
   "metadata": {},
   "source": [
    "# function to take image and convert it to numpy array"
   ]
  },
  {
   "cell_type": "code",
   "execution_count": 253,
   "id": "f6d3a46c",
   "metadata": {},
   "outputs": [],
   "source": [
    "def npimage(s):\n",
    "    image_ = Image.open(s)\n",
    "    image_c = image_.convert('L')\n",
    "    image = np.array(image_c)\n",
    "    image = image.astype(np.float64)\n",
    "    return image"
   ]
  },
  {
   "cell_type": "markdown",
   "id": "a0bd2d90",
   "metadata": {},
   "source": [
    "# scale function to constrict pixel values to 0 to 255"
   ]
  },
  {
   "cell_type": "code",
   "execution_count": 254,
   "id": "d20d1848",
   "metadata": {},
   "outputs": [],
   "source": [
    "def scale(image):\n",
    "    current_max = np.max(image)\n",
    "    current_min = np.min(image)\n",
    "    scaled_image = ((image-current_min) / (current_max-current_min)) * 255\n",
    "    return scaled_image"
   ]
  },
  {
   "cell_type": "markdown",
   "id": "69776f82",
   "metadata": {},
   "source": [
    "# check function for boundries"
   ]
  },
  {
   "cell_type": "code",
   "execution_count": 255,
   "id": "331e067d",
   "metadata": {},
   "outputs": [],
   "source": [
    "def c(i,j,n,m):\n",
    "    if not(i<n and i>=0):\n",
    "        return False\n",
    "    if not(j<m and j>=0):\n",
    "        return False\n",
    "    return True"
   ]
  },
  {
   "cell_type": "markdown",
   "id": "45d09744",
   "metadata": {},
   "source": [
    "# image to zig zag"
   ]
  },
  {
   "cell_type": "code",
   "execution_count": 256,
   "id": "a6c036a8",
   "metadata": {},
   "outputs": [],
   "source": [
    "def zig_zag(image):\n",
    "    n,m=image.shape\n",
    "    l=[]\n",
    "    row = 0\n",
    "    col = 0\n",
    "    rev=True\n",
    "    while row < n:\n",
    "        i = row\n",
    "        j = col\n",
    "        temp = []\n",
    "\n",
    "        while c(i, j, n, m):\n",
    "            temp.append(image[i, j])\n",
    "            i += 1\n",
    "            j -= 1\n",
    "\n",
    "\n",
    "        if temp:\n",
    "            if rev:\n",
    "                l=l+temp[::-1]\n",
    "                rev=False\n",
    "            else:\n",
    "                l=l+temp\n",
    "                rev=True\n",
    "\n",
    "        if col < m - 1:\n",
    "            col += 1\n",
    "        else:\n",
    "            row += 1\n",
    "\n",
    "    return np.array(l)\n"
   ]
  },
  {
   "cell_type": "markdown",
   "id": "5e89bb34",
   "metadata": {},
   "source": [
    "# zig zag to image"
   ]
  },
  {
   "cell_type": "code",
   "execution_count": 257,
   "id": "3ee10887",
   "metadata": {},
   "outputs": [],
   "source": [
    "def zag_zig(l,n,m):\n",
    "    image=np.zeros((n,m))\n",
    "    row=0\n",
    "    col=0\n",
    "    ind=0\n",
    "    rev=True\n",
    "    while row < n:\n",
    "        i = row\n",
    "        j = col\n",
    "        if rev:\n",
    "            rev = False\n",
    "            stack=[]\n",
    "            while c(i, j, n, m):\n",
    "                stack.append([i,j])\n",
    "                i += 1\n",
    "                j -= 1\n",
    "            \n",
    "            while stack:\n",
    "                image[stack[-1][0],stack[-1][1]]=l[ind]\n",
    "                stack.pop()\n",
    "                ind+=1\n",
    "            \n",
    "        else:\n",
    "            rev = True\n",
    "            while c(i, j, n, m):\n",
    "                image[i, j]=l[ind]\n",
    "                ind+=1\n",
    "                i += 1\n",
    "                j -= 1\n",
    "                \n",
    "\n",
    "\n",
    "\n",
    "        if col < m - 1:\n",
    "            col += 1\n",
    "        else:\n",
    "            row += 1\n",
    "    \n",
    "    return image"
   ]
  },
  {
   "cell_type": "markdown",
   "id": "022876b8",
   "metadata": {},
   "source": [
    "# testing of above code"
   ]
  },
  {
   "cell_type": "code",
   "execution_count": 258,
   "id": "613c4212",
   "metadata": {},
   "outputs": [
    {
     "name": "stdout",
     "output_type": "stream",
     "text": [
      "369, 246\n"
     ]
    }
   ],
   "source": [
    "image_=npimage(\"dwt_image.png\")\n",
    "n,m=image_.shape\n",
    "print(f'{n}, {m}')"
   ]
  },
  {
   "cell_type": "code",
   "execution_count": 259,
   "id": "a5ada256",
   "metadata": {},
   "outputs": [],
   "source": [
    "n=n//4\n",
    "m=m//4\n",
    "image=image_[0:n, 0:m]"
   ]
  },
  {
   "cell_type": "code",
   "execution_count": 264,
   "id": "0debe798",
   "metadata": {},
   "outputs": [],
   "source": [
    "zig_zag_t=zig_zag(image)\n",
    "np.savetxt('zig_zag_t.txt', zig_zag_t, fmt='%d', delimiter=' ')"
   ]
  },
  {
   "cell_type": "code",
   "execution_count": 265,
   "id": "fb916d64",
   "metadata": {},
   "outputs": [],
   "source": [
    "with open('zig_zag_tr.txt', 'r') as file:\n",
    "    numbers = [int(line.strip()) for line in file]\n",
    "\n",
    "    \n",
    "\n",
    "zig_zag_tr = np.array(numbers)\n",
    "image_i=zag_zig(zig_zag_tr,n,m)"
   ]
  },
  {
   "cell_type": "code",
   "execution_count": 266,
   "id": "2516af4c",
   "metadata": {},
   "outputs": [
    {
     "name": "stdout",
     "output_type": "stream",
     "text": [
      "0.49215965787598004\n"
     ]
    }
   ],
   "source": [
    "print(np.mean((image_i-image)**2))"
   ]
  },
  {
   "cell_type": "code",
   "execution_count": 267,
   "id": "edc4dedd",
   "metadata": {},
   "outputs": [
    {
     "data": {
      "image/png": "[encoded data removed]",
      "text/plain": [
       "<Figure size 640x480 with 2 Axes>"
      ]
     },
     "metadata": {},
     "output_type": "display_data"
    }
   ],
   "source": [
    "plt.subplot(1,2,1)\n",
    "plt.imshow(image_i, cmap='gray')\n",
    "plt.axis('off')\n",
    "plt.subplot(1,2,2)\n",
    "plt.imshow(image, cmap='gray')\n",
    "plt.axis('off')\n",
    "plt.show()"
   ]
  },
  {
   "cell_type": "code",
   "execution_count": 268,
   "id": "eb7ba118",
   "metadata": {},
   "outputs": [],
   "source": [
    "plt.imshow(image_i, cmap='gray')\n",
    "plt.axis('off')\n",
    "plt.savefig('krishna_w.png', bbox_inches='tight', pad_inches=0)\n",
    "plt.close()"
   ]
  },
  {
   "cell_type": "code",
   "execution_count": null,
   "id": "161722e6",
   "metadata": {},
   "outputs": [],
   "source": []
  }
 ],
 "metadata": {
  "kernelspec": {
   "display_name": "Python 3 (ipykernel)",
   "language": "python",
   "name": "python3"
  },
  "language_info": {
   "codemirror_mode": {
    "name": "ipython",
    "version": 3
   },
   "file_extension": ".py",
   "mimetype": "text/x-python",
   "name": "python",
   "nbconvert_exporter": "python",
   "pygments_lexer": "ipython3",
   "version": "3.11.4"
  }
 },
 "nbformat": 4,
 "nbformat_minor": 5
}
